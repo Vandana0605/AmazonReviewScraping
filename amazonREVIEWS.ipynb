{
 "cells": [
  {
   "cell_type": "code",
   "execution_count": 1,
   "id": "dca796fd",
   "metadata": {},
   "outputs": [],
   "source": [
    "from selenium.webdriver.support.ui import WebDriverWait\n",
    "import undetected_chromedriver as uc\n",
    "from selenium.webdriver.common.by import By\n",
    "import time\n",
    "import csv  \n",
    "from selenium.webdriver.support import expected_conditions as EC\n",
    "descript=[]\n",
    "raters=[]\n",
    "start=[]\n",
    "header=['Added By','Description','Rating']\n",
    "with open('SAMEReviews.csv', 'a+', encoding='UTF8') as f:\n",
    "    writer = csv.writer(f)\n",
    "    writer.writerow(header)\n",
    "\n",
    "driver = uc.Chrome()\n",
    "driver.get('https://www.amazon.com/sp?marketplaceID=ATVPDKIKX0DER&seller=AUYCN5HREKJ69&ref=dp_merchant_link')\n",
    "\n",
    "# rater = driver.find_elements(By.CLASS_NAME, \"feedback-rater\")\n",
    "# for r in rater:\n",
    "#     data=r.text\n",
    "#     raters.append(data)\n",
    "# print(raters)\n",
    "# des=driver.find_elements(By.CLASS_NAME, \"a-text-quote\")\n",
    "# for d in des:\n",
    "#     dd=d.text\n",
    "#     descript.append(dd)\n",
    "    \n",
    "# print(descript)\n",
    "\n",
    "# rating = driver.find_elements(By.XPATH,\"//span[@class='a-icon-alt']\")\n",
    "\n",
    "# for i in rating:\n",
    "#     rat=i.get_attribute(\"innerHTML\")\n",
    "#     rr=rat.split(\" \")\n",
    "#     start.append(rr[0].strip(\"'\"))\n",
    "    \n",
    "# print(start)\n",
    "\n"
   ]
  },
  {
   "cell_type": "code",
   "execution_count": 5,
   "id": "a29e258d",
   "metadata": {},
   "outputs": [
    {
     "name": "stdout",
     "output_type": "stream",
     "text": [
      "['4.5', '5', '5', '5', '3', '5', '0', '4.5', '5', '5', '5', '5', '5', '0', '4.5', '5', '5', '1', '5', '5', '0']\n",
      "['By Torry J. on July 27, 2022.', 'By Lizzie on July 27, 2022.', 'By Sherrie Ashcraft on July 26, 2022.', 'By Fox 8 on July 23, 2022.', 'By Marisol Davila on July 22, 2022.', '', '', 'By Patsy on July 20, 2022.', 'By Patsy on July 20, 2022.', 'By Sylvia p. on July 17, 2022.', 'By Karen Mannino on July 15, 2022.', 'By Not Happy on July 14, 2022.', '', '', 'By loismt1 on July 14, 2022.', 'By Crystal on July 12, 2022.', 'By Gwen Scichowski on July 8, 2022.', 'By Mary Moorman on July 6, 2022.', 'By Anita M. Sailas on July 4, 2022.', '', '']\n",
      "['iTEM WAS DELEVERED ON THE 27TH!', 'beautiful outfit; love it', 'Product was as described and is beautiful! Was a little wrinkled but I believe they will steam out. I was aggravated with UPS! They didn’t leave the package at...', 'The top is way too difficult to put on as the jacket and tank top are one piece. I\\'m 5\\'8\" and the pants are long enough for a giant.', 'Bought the first one size14P to small in my arms. I returned it and got 16P. Fits perfect. I got it 3days before the delivery day. I’m very pleased with the ser...', '', '', 'Dress was too big', 'Absolutely Beautiful.', 'Dress was beautiful, but to large thru shoulders, sent the dress back and waiting on refund to my card. Thank you!', 'This was my 1st experience buying from the Dress Outlet. It was fantastic! They had an amazing selection of styles and sizes and colors! When I needed to contac...', 'I hate shopping and getting dressed up. This outfit is so comfortable, and makes me look nice. I wasn’t looking forward to going to the wedding and now I am. Bu...', '', '', 'Beautiful dress, but rather warm in it, so thought it would be too hot to wear to an August wedding', 'Great fit. I\\'m 5\\'5\", 165 lbs. Ordered size 14 and the outfit was perfect for the wedding of my niece. Would have liked this to be 3 pieces so I could remov...', 'Ordered additional item to make up for damaged item and still did not refund properly.', 'The dress is absolutely beautiful', 'Love it', '', '']\n",
      "['4.5', '5', '5', '5', '3', '5', '0', '4.5', '5', '5', '5', '5', '5', '0', '4.5', '5', '5', '1', '5', '5', '0', '4.5', '5', '5', '1', '5', '5', '0']\n",
      "['By Torry J. on July 27, 2022.', 'By Lizzie on July 27, 2022.', 'By Sherrie Ashcraft on July 26, 2022.', 'By Fox 8 on July 23, 2022.', 'By Marisol Davila on July 22, 2022.', '', '', 'By Patsy on July 20, 2022.', 'By Patsy on July 20, 2022.', 'By Sylvia p. on July 17, 2022.', 'By Karen Mannino on July 15, 2022.', 'By Not Happy on July 14, 2022.', '', '', 'By loismt1 on July 14, 2022.', 'By Crystal on July 12, 2022.', 'By Gwen Scichowski on July 8, 2022.', 'By Mary Moorman on July 6, 2022.', 'By Anita M. Sailas on July 4, 2022.', '', '', 'By loismt1 on July 14, 2022.', 'By Crystal on July 12, 2022.', 'By Gwen Scichowski on July 8, 2022.', 'By Mary Moorman on July 6, 2022.', 'By Anita M. Sailas on July 4, 2022.', '', '']\n",
      "['iTEM WAS DELEVERED ON THE 27TH!', 'beautiful outfit; love it', 'Product was as described and is beautiful! Was a little wrinkled but I believe they will steam out. I was aggravated with UPS! They didn’t leave the package at...', 'The top is way too difficult to put on as the jacket and tank top are one piece. I\\'m 5\\'8\" and the pants are long enough for a giant.', 'Bought the first one size14P to small in my arms. I returned it and got 16P. Fits perfect. I got it 3days before the delivery day. I’m very pleased with the ser...', '', '', 'Dress was too big', 'Absolutely Beautiful.', 'Dress was beautiful, but to large thru shoulders, sent the dress back and waiting on refund to my card. Thank you!', 'This was my 1st experience buying from the Dress Outlet. It was fantastic! They had an amazing selection of styles and sizes and colors! When I needed to contac...', 'I hate shopping and getting dressed up. This outfit is so comfortable, and makes me look nice. I wasn’t looking forward to going to the wedding and now I am. Bu...', '', '', 'Beautiful dress, but rather warm in it, so thought it would be too hot to wear to an August wedding', 'Great fit. I\\'m 5\\'5\", 165 lbs. Ordered size 14 and the outfit was perfect for the wedding of my niece. Would have liked this to be 3 pieces so I could remov...', 'Ordered additional item to make up for damaged item and still did not refund properly.', 'The dress is absolutely beautiful', 'Love it', '', '', 'Beautiful dress, but rather warm in it, so thought it would be too hot to wear to an August wedding', 'Great fit. I\\'m 5\\'5\", 165 lbs. Ordered size 14 and the outfit was perfect for the wedding of my niece. Would have liked this to be 3 pieces so I could remov...', 'Ordered additional item to make up for damaged item and still did not refund properly.', 'The dress is absolutely beautiful', 'Love it', '', '']\n",
      "['4.5', '5', '5', '5', '3', '5', '0', '4.5', '5', '5', '5', '5', '5', '0', '4.5', '5', '5', '1', '5', '5', '0', '4.5', '5', '5', '1', '5', '5', '0', '4.5', '5', '5', '1', '5', '5', '0']\n",
      "['By Torry J. on July 27, 2022.', 'By Lizzie on July 27, 2022.', 'By Sherrie Ashcraft on July 26, 2022.', 'By Fox 8 on July 23, 2022.', 'By Marisol Davila on July 22, 2022.', '', '', 'By Patsy on July 20, 2022.', 'By Patsy on July 20, 2022.', 'By Sylvia p. on July 17, 2022.', 'By Karen Mannino on July 15, 2022.', 'By Not Happy on July 14, 2022.', '', '', 'By loismt1 on July 14, 2022.', 'By Crystal on July 12, 2022.', 'By Gwen Scichowski on July 8, 2022.', 'By Mary Moorman on July 6, 2022.', 'By Anita M. Sailas on July 4, 2022.', '', '', 'By loismt1 on July 14, 2022.', 'By Crystal on July 12, 2022.', 'By Gwen Scichowski on July 8, 2022.', 'By Mary Moorman on July 6, 2022.', 'By Anita M. Sailas on July 4, 2022.', '', '', 'By loismt1 on July 14, 2022.', 'By Crystal on July 12, 2022.', 'By Gwen Scichowski on July 8, 2022.', 'By Mary Moorman on July 6, 2022.', 'By Anita M. Sailas on July 4, 2022.', '', '']\n",
      "['iTEM WAS DELEVERED ON THE 27TH!', 'beautiful outfit; love it', 'Product was as described and is beautiful! Was a little wrinkled but I believe they will steam out. I was aggravated with UPS! They didn’t leave the package at...', 'The top is way too difficult to put on as the jacket and tank top are one piece. I\\'m 5\\'8\" and the pants are long enough for a giant.', 'Bought the first one size14P to small in my arms. I returned it and got 16P. Fits perfect. I got it 3days before the delivery day. I’m very pleased with the ser...', '', '', 'Dress was too big', 'Absolutely Beautiful.', 'Dress was beautiful, but to large thru shoulders, sent the dress back and waiting on refund to my card. Thank you!', 'This was my 1st experience buying from the Dress Outlet. It was fantastic! They had an amazing selection of styles and sizes and colors! When I needed to contac...', 'I hate shopping and getting dressed up. This outfit is so comfortable, and makes me look nice. I wasn’t looking forward to going to the wedding and now I am. Bu...', '', '', 'Beautiful dress, but rather warm in it, so thought it would be too hot to wear to an August wedding', 'Great fit. I\\'m 5\\'5\", 165 lbs. Ordered size 14 and the outfit was perfect for the wedding of my niece. Would have liked this to be 3 pieces so I could remov...', 'Ordered additional item to make up for damaged item and still did not refund properly.', 'The dress is absolutely beautiful', 'Love it', '', '', 'Beautiful dress, but rather warm in it, so thought it would be too hot to wear to an August wedding', 'Great fit. I\\'m 5\\'5\", 165 lbs. Ordered size 14 and the outfit was perfect for the wedding of my niece. Would have liked this to be 3 pieces so I could remov...', 'Ordered additional item to make up for damaged item and still did not refund properly.', 'The dress is absolutely beautiful', 'Love it', '', '', 'Beautiful dress, but rather warm in it, so thought it would be too hot to wear to an August wedding', 'Great fit. I\\'m 5\\'5\", 165 lbs. Ordered size 14 and the outfit was perfect for the wedding of my niece. Would have liked this to be 3 pieces so I could remov...', 'Ordered additional item to make up for damaged item and still did not refund properly.', 'The dress is absolutely beautiful', 'Love it', '', '']\n"
     ]
    },
    {
     "name": "stdout",
     "output_type": "stream",
     "text": [
      "['4.5', '5', '5', '5', '3', '5', '0', '4.5', '5', '5', '5', '5', '5', '0', '4.5', '5', '5', '1', '5', '5', '0', '4.5', '5', '5', '1', '5', '5', '0', '4.5', '5', '5', '1', '5', '5', '0', '4.5', '5', '5', '1', '5', '5', '0']\n",
      "['By Torry J. on July 27, 2022.', 'By Lizzie on July 27, 2022.', 'By Sherrie Ashcraft on July 26, 2022.', 'By Fox 8 on July 23, 2022.', 'By Marisol Davila on July 22, 2022.', '', '', 'By Patsy on July 20, 2022.', 'By Patsy on July 20, 2022.', 'By Sylvia p. on July 17, 2022.', 'By Karen Mannino on July 15, 2022.', 'By Not Happy on July 14, 2022.', '', '', 'By loismt1 on July 14, 2022.', 'By Crystal on July 12, 2022.', 'By Gwen Scichowski on July 8, 2022.', 'By Mary Moorman on July 6, 2022.', 'By Anita M. Sailas on July 4, 2022.', '', '', 'By loismt1 on July 14, 2022.', 'By Crystal on July 12, 2022.', 'By Gwen Scichowski on July 8, 2022.', 'By Mary Moorman on July 6, 2022.', 'By Anita M. Sailas on July 4, 2022.', '', '', 'By loismt1 on July 14, 2022.', 'By Crystal on July 12, 2022.', 'By Gwen Scichowski on July 8, 2022.', 'By Mary Moorman on July 6, 2022.', 'By Anita M. Sailas on July 4, 2022.', '', '', 'By loismt1 on July 14, 2022.', 'By Crystal on July 12, 2022.', 'By Gwen Scichowski on July 8, 2022.', 'By Mary Moorman on July 6, 2022.', 'By Anita M. Sailas on July 4, 2022.', '', '']\n",
      "['iTEM WAS DELEVERED ON THE 27TH!', 'beautiful outfit; love it', 'Product was as described and is beautiful! Was a little wrinkled but I believe they will steam out. I was aggravated with UPS! They didn’t leave the package at...', 'The top is way too difficult to put on as the jacket and tank top are one piece. I\\'m 5\\'8\" and the pants are long enough for a giant.', 'Bought the first one size14P to small in my arms. I returned it and got 16P. Fits perfect. I got it 3days before the delivery day. I’m very pleased with the ser...', '', '', 'Dress was too big', 'Absolutely Beautiful.', 'Dress was beautiful, but to large thru shoulders, sent the dress back and waiting on refund to my card. Thank you!', 'This was my 1st experience buying from the Dress Outlet. It was fantastic! They had an amazing selection of styles and sizes and colors! When I needed to contac...', 'I hate shopping and getting dressed up. This outfit is so comfortable, and makes me look nice. I wasn’t looking forward to going to the wedding and now I am. Bu...', '', '', 'Beautiful dress, but rather warm in it, so thought it would be too hot to wear to an August wedding', 'Great fit. I\\'m 5\\'5\", 165 lbs. Ordered size 14 and the outfit was perfect for the wedding of my niece. Would have liked this to be 3 pieces so I could remov...', 'Ordered additional item to make up for damaged item and still did not refund properly.', 'The dress is absolutely beautiful', 'Love it', '', '', 'Beautiful dress, but rather warm in it, so thought it would be too hot to wear to an August wedding', 'Great fit. I\\'m 5\\'5\", 165 lbs. Ordered size 14 and the outfit was perfect for the wedding of my niece. Would have liked this to be 3 pieces so I could remov...', 'Ordered additional item to make up for damaged item and still did not refund properly.', 'The dress is absolutely beautiful', 'Love it', '', '', 'Beautiful dress, but rather warm in it, so thought it would be too hot to wear to an August wedding', 'Great fit. I\\'m 5\\'5\", 165 lbs. Ordered size 14 and the outfit was perfect for the wedding of my niece. Would have liked this to be 3 pieces so I could remov...', 'Ordered additional item to make up for damaged item and still did not refund properly.', 'The dress is absolutely beautiful', 'Love it', '', '', 'Beautiful dress, but rather warm in it, so thought it would be too hot to wear to an August wedding', 'Great fit. I\\'m 5\\'5\", 165 lbs. Ordered size 14 and the outfit was perfect for the wedding of my niece. Would have liked this to be 3 pieces so I could remov...', 'Ordered additional item to make up for damaged item and still did not refund properly.', 'The dress is absolutely beautiful', 'Love it', '', '']\n",
      "['4.5', '5', '5', '5', '3', '5', '0', '4.5', '5', '5', '5', '5', '5', '0', '4.5', '5', '5', '1', '5', '5', '0', '4.5', '5', '5', '1', '5', '5', '0', '4.5', '5', '5', '1', '5', '5', '0', '4.5', '5', '5', '1', '5', '5', '0', '4.5', '5', '5', '1', '5', '5', '0']\n",
      "['By Torry J. on July 27, 2022.', 'By Lizzie on July 27, 2022.', 'By Sherrie Ashcraft on July 26, 2022.', 'By Fox 8 on July 23, 2022.', 'By Marisol Davila on July 22, 2022.', '', '', 'By Patsy on July 20, 2022.', 'By Patsy on July 20, 2022.', 'By Sylvia p. on July 17, 2022.', 'By Karen Mannino on July 15, 2022.', 'By Not Happy on July 14, 2022.', '', '', 'By loismt1 on July 14, 2022.', 'By Crystal on July 12, 2022.', 'By Gwen Scichowski on July 8, 2022.', 'By Mary Moorman on July 6, 2022.', 'By Anita M. Sailas on July 4, 2022.', '', '', 'By loismt1 on July 14, 2022.', 'By Crystal on July 12, 2022.', 'By Gwen Scichowski on July 8, 2022.', 'By Mary Moorman on July 6, 2022.', 'By Anita M. Sailas on July 4, 2022.', '', '', 'By loismt1 on July 14, 2022.', 'By Crystal on July 12, 2022.', 'By Gwen Scichowski on July 8, 2022.', 'By Mary Moorman on July 6, 2022.', 'By Anita M. Sailas on July 4, 2022.', '', '', 'By loismt1 on July 14, 2022.', 'By Crystal on July 12, 2022.', 'By Gwen Scichowski on July 8, 2022.', 'By Mary Moorman on July 6, 2022.', 'By Anita M. Sailas on July 4, 2022.', '', '', 'By loismt1 on July 14, 2022.', 'By Crystal on July 12, 2022.', 'By Gwen Scichowski on July 8, 2022.', 'By Mary Moorman on July 6, 2022.', 'By Anita M. Sailas on July 4, 2022.', '', '']\n",
      "['iTEM WAS DELEVERED ON THE 27TH!', 'beautiful outfit; love it', 'Product was as described and is beautiful! Was a little wrinkled but I believe they will steam out. I was aggravated with UPS! They didn’t leave the package at...', 'The top is way too difficult to put on as the jacket and tank top are one piece. I\\'m 5\\'8\" and the pants are long enough for a giant.', 'Bought the first one size14P to small in my arms. I returned it and got 16P. Fits perfect. I got it 3days before the delivery day. I’m very pleased with the ser...', '', '', 'Dress was too big', 'Absolutely Beautiful.', 'Dress was beautiful, but to large thru shoulders, sent the dress back and waiting on refund to my card. Thank you!', 'This was my 1st experience buying from the Dress Outlet. It was fantastic! They had an amazing selection of styles and sizes and colors! When I needed to contac...', 'I hate shopping and getting dressed up. This outfit is so comfortable, and makes me look nice. I wasn’t looking forward to going to the wedding and now I am. Bu...', '', '', 'Beautiful dress, but rather warm in it, so thought it would be too hot to wear to an August wedding', 'Great fit. I\\'m 5\\'5\", 165 lbs. Ordered size 14 and the outfit was perfect for the wedding of my niece. Would have liked this to be 3 pieces so I could remov...', 'Ordered additional item to make up for damaged item and still did not refund properly.', 'The dress is absolutely beautiful', 'Love it', '', '', 'Beautiful dress, but rather warm in it, so thought it would be too hot to wear to an August wedding', 'Great fit. I\\'m 5\\'5\", 165 lbs. Ordered size 14 and the outfit was perfect for the wedding of my niece. Would have liked this to be 3 pieces so I could remov...', 'Ordered additional item to make up for damaged item and still did not refund properly.', 'The dress is absolutely beautiful', 'Love it', '', '', 'Beautiful dress, but rather warm in it, so thought it would be too hot to wear to an August wedding', 'Great fit. I\\'m 5\\'5\", 165 lbs. Ordered size 14 and the outfit was perfect for the wedding of my niece. Would have liked this to be 3 pieces so I could remov...', 'Ordered additional item to make up for damaged item and still did not refund properly.', 'The dress is absolutely beautiful', 'Love it', '', '', 'Beautiful dress, but rather warm in it, so thought it would be too hot to wear to an August wedding', 'Great fit. I\\'m 5\\'5\", 165 lbs. Ordered size 14 and the outfit was perfect for the wedding of my niece. Would have liked this to be 3 pieces so I could remov...', 'Ordered additional item to make up for damaged item and still did not refund properly.', 'The dress is absolutely beautiful', 'Love it', '', '', 'Beautiful dress, but rather warm in it, so thought it would be too hot to wear to an August wedding', 'Great fit. I\\'m 5\\'5\", 165 lbs. Ordered size 14 and the outfit was perfect for the wedding of my niece. Would have liked this to be 3 pieces so I could remov...', 'Ordered additional item to make up for damaged item and still did not refund properly.', 'The dress is absolutely beautiful', 'Love it', '', '']\n"
     ]
    },
    {
     "name": "stdout",
     "output_type": "stream",
     "text": [
      "['4.5', '5', '5', '5', '3', '5', '0', '4.5', '5', '5', '5', '5', '5', '0', '4.5', '5', '5', '1', '5', '5', '0', '4.5', '5', '5', '1', '5', '5', '0', '4.5', '5', '5', '1', '5', '5', '0', '4.5', '5', '5', '1', '5', '5', '0', '4.5', '5', '5', '1', '5', '5', '0', '4.5', '5', '5', '1', '5', '5', '0']\n",
      "['By Torry J. on July 27, 2022.', 'By Lizzie on July 27, 2022.', 'By Sherrie Ashcraft on July 26, 2022.', 'By Fox 8 on July 23, 2022.', 'By Marisol Davila on July 22, 2022.', '', '', 'By Patsy on July 20, 2022.', 'By Patsy on July 20, 2022.', 'By Sylvia p. on July 17, 2022.', 'By Karen Mannino on July 15, 2022.', 'By Not Happy on July 14, 2022.', '', '', 'By loismt1 on July 14, 2022.', 'By Crystal on July 12, 2022.', 'By Gwen Scichowski on July 8, 2022.', 'By Mary Moorman on July 6, 2022.', 'By Anita M. Sailas on July 4, 2022.', '', '', 'By loismt1 on July 14, 2022.', 'By Crystal on July 12, 2022.', 'By Gwen Scichowski on July 8, 2022.', 'By Mary Moorman on July 6, 2022.', 'By Anita M. Sailas on July 4, 2022.', '', '', 'By loismt1 on July 14, 2022.', 'By Crystal on July 12, 2022.', 'By Gwen Scichowski on July 8, 2022.', 'By Mary Moorman on July 6, 2022.', 'By Anita M. Sailas on July 4, 2022.', '', '', 'By loismt1 on July 14, 2022.', 'By Crystal on July 12, 2022.', 'By Gwen Scichowski on July 8, 2022.', 'By Mary Moorman on July 6, 2022.', 'By Anita M. Sailas on July 4, 2022.', '', '', 'By loismt1 on July 14, 2022.', 'By Crystal on July 12, 2022.', 'By Gwen Scichowski on July 8, 2022.', 'By Mary Moorman on July 6, 2022.', 'By Anita M. Sailas on July 4, 2022.', '', '', 'By loismt1 on July 14, 2022.', 'By Crystal on July 12, 2022.', 'By Gwen Scichowski on July 8, 2022.', 'By Mary Moorman on July 6, 2022.', 'By Anita M. Sailas on July 4, 2022.', '', '']\n",
      "['iTEM WAS DELEVERED ON THE 27TH!', 'beautiful outfit; love it', 'Product was as described and is beautiful! Was a little wrinkled but I believe they will steam out. I was aggravated with UPS! They didn’t leave the package at...', 'The top is way too difficult to put on as the jacket and tank top are one piece. I\\'m 5\\'8\" and the pants are long enough for a giant.', 'Bought the first one size14P to small in my arms. I returned it and got 16P. Fits perfect. I got it 3days before the delivery day. I’m very pleased with the ser...', '', '', 'Dress was too big', 'Absolutely Beautiful.', 'Dress was beautiful, but to large thru shoulders, sent the dress back and waiting on refund to my card. Thank you!', 'This was my 1st experience buying from the Dress Outlet. It was fantastic! They had an amazing selection of styles and sizes and colors! When I needed to contac...', 'I hate shopping and getting dressed up. This outfit is so comfortable, and makes me look nice. I wasn’t looking forward to going to the wedding and now I am. Bu...', '', '', 'Beautiful dress, but rather warm in it, so thought it would be too hot to wear to an August wedding', 'Great fit. I\\'m 5\\'5\", 165 lbs. Ordered size 14 and the outfit was perfect for the wedding of my niece. Would have liked this to be 3 pieces so I could remov...', 'Ordered additional item to make up for damaged item and still did not refund properly.', 'The dress is absolutely beautiful', 'Love it', '', '', 'Beautiful dress, but rather warm in it, so thought it would be too hot to wear to an August wedding', 'Great fit. I\\'m 5\\'5\", 165 lbs. Ordered size 14 and the outfit was perfect for the wedding of my niece. Would have liked this to be 3 pieces so I could remov...', 'Ordered additional item to make up for damaged item and still did not refund properly.', 'The dress is absolutely beautiful', 'Love it', '', '', 'Beautiful dress, but rather warm in it, so thought it would be too hot to wear to an August wedding', 'Great fit. I\\'m 5\\'5\", 165 lbs. Ordered size 14 and the outfit was perfect for the wedding of my niece. Would have liked this to be 3 pieces so I could remov...', 'Ordered additional item to make up for damaged item and still did not refund properly.', 'The dress is absolutely beautiful', 'Love it', '', '', 'Beautiful dress, but rather warm in it, so thought it would be too hot to wear to an August wedding', 'Great fit. I\\'m 5\\'5\", 165 lbs. Ordered size 14 and the outfit was perfect for the wedding of my niece. Would have liked this to be 3 pieces so I could remov...', 'Ordered additional item to make up for damaged item and still did not refund properly.', 'The dress is absolutely beautiful', 'Love it', '', '', 'Beautiful dress, but rather warm in it, so thought it would be too hot to wear to an August wedding', 'Great fit. I\\'m 5\\'5\", 165 lbs. Ordered size 14 and the outfit was perfect for the wedding of my niece. Would have liked this to be 3 pieces so I could remov...', 'Ordered additional item to make up for damaged item and still did not refund properly.', 'The dress is absolutely beautiful', 'Love it', '', '', 'Beautiful dress, but rather warm in it, so thought it would be too hot to wear to an August wedding', 'Great fit. I\\'m 5\\'5\", 165 lbs. Ordered size 14 and the outfit was perfect for the wedding of my niece. Would have liked this to be 3 pieces so I could remov...', 'Ordered additional item to make up for damaged item and still did not refund properly.', 'The dress is absolutely beautiful', 'Love it', '', '']\n",
      "['4.5', '5', '5', '5', '3', '5', '0', '4.5', '5', '5', '5', '5', '5', '0', '4.5', '5', '5', '1', '5', '5', '0', '4.5', '5', '5', '1', '5', '5', '0', '4.5', '5', '5', '1', '5', '5', '0', '4.5', '5', '5', '1', '5', '5', '0', '4.5', '5', '5', '1', '5', '5', '0', '4.5', '5', '5', '1', '5', '5', '0', '4.5', '5', '5', '1', '5', '5', '0']\n",
      "['By Torry J. on July 27, 2022.', 'By Lizzie on July 27, 2022.', 'By Sherrie Ashcraft on July 26, 2022.', 'By Fox 8 on July 23, 2022.', 'By Marisol Davila on July 22, 2022.', '', '', 'By Patsy on July 20, 2022.', 'By Patsy on July 20, 2022.', 'By Sylvia p. on July 17, 2022.', 'By Karen Mannino on July 15, 2022.', 'By Not Happy on July 14, 2022.', '', '', 'By loismt1 on July 14, 2022.', 'By Crystal on July 12, 2022.', 'By Gwen Scichowski on July 8, 2022.', 'By Mary Moorman on July 6, 2022.', 'By Anita M. Sailas on July 4, 2022.', '', '', 'By loismt1 on July 14, 2022.', 'By Crystal on July 12, 2022.', 'By Gwen Scichowski on July 8, 2022.', 'By Mary Moorman on July 6, 2022.', 'By Anita M. Sailas on July 4, 2022.', '', '', 'By loismt1 on July 14, 2022.', 'By Crystal on July 12, 2022.', 'By Gwen Scichowski on July 8, 2022.', 'By Mary Moorman on July 6, 2022.', 'By Anita M. Sailas on July 4, 2022.', '', '', 'By loismt1 on July 14, 2022.', 'By Crystal on July 12, 2022.', 'By Gwen Scichowski on July 8, 2022.', 'By Mary Moorman on July 6, 2022.', 'By Anita M. Sailas on July 4, 2022.', '', '', 'By loismt1 on July 14, 2022.', 'By Crystal on July 12, 2022.', 'By Gwen Scichowski on July 8, 2022.', 'By Mary Moorman on July 6, 2022.', 'By Anita M. Sailas on July 4, 2022.', '', '', 'By loismt1 on July 14, 2022.', 'By Crystal on July 12, 2022.', 'By Gwen Scichowski on July 8, 2022.', 'By Mary Moorman on July 6, 2022.', 'By Anita M. Sailas on July 4, 2022.', '', '', 'By loismt1 on July 14, 2022.', 'By Crystal on July 12, 2022.', 'By Gwen Scichowski on July 8, 2022.', 'By Mary Moorman on July 6, 2022.', 'By Anita M. Sailas on July 4, 2022.', '', '']\n",
      "['iTEM WAS DELEVERED ON THE 27TH!', 'beautiful outfit; love it', 'Product was as described and is beautiful! Was a little wrinkled but I believe they will steam out. I was aggravated with UPS! They didn’t leave the package at...', 'The top is way too difficult to put on as the jacket and tank top are one piece. I\\'m 5\\'8\" and the pants are long enough for a giant.', 'Bought the first one size14P to small in my arms. I returned it and got 16P. Fits perfect. I got it 3days before the delivery day. I’m very pleased with the ser...', '', '', 'Dress was too big', 'Absolutely Beautiful.', 'Dress was beautiful, but to large thru shoulders, sent the dress back and waiting on refund to my card. Thank you!', 'This was my 1st experience buying from the Dress Outlet. It was fantastic! They had an amazing selection of styles and sizes and colors! When I needed to contac...', 'I hate shopping and getting dressed up. This outfit is so comfortable, and makes me look nice. I wasn’t looking forward to going to the wedding and now I am. Bu...', '', '', 'Beautiful dress, but rather warm in it, so thought it would be too hot to wear to an August wedding', 'Great fit. I\\'m 5\\'5\", 165 lbs. Ordered size 14 and the outfit was perfect for the wedding of my niece. Would have liked this to be 3 pieces so I could remov...', 'Ordered additional item to make up for damaged item and still did not refund properly.', 'The dress is absolutely beautiful', 'Love it', '', '', 'Beautiful dress, but rather warm in it, so thought it would be too hot to wear to an August wedding', 'Great fit. I\\'m 5\\'5\", 165 lbs. Ordered size 14 and the outfit was perfect for the wedding of my niece. Would have liked this to be 3 pieces so I could remov...', 'Ordered additional item to make up for damaged item and still did not refund properly.', 'The dress is absolutely beautiful', 'Love it', '', '', 'Beautiful dress, but rather warm in it, so thought it would be too hot to wear to an August wedding', 'Great fit. I\\'m 5\\'5\", 165 lbs. Ordered size 14 and the outfit was perfect for the wedding of my niece. Would have liked this to be 3 pieces so I could remov...', 'Ordered additional item to make up for damaged item and still did not refund properly.', 'The dress is absolutely beautiful', 'Love it', '', '', 'Beautiful dress, but rather warm in it, so thought it would be too hot to wear to an August wedding', 'Great fit. I\\'m 5\\'5\", 165 lbs. Ordered size 14 and the outfit was perfect for the wedding of my niece. Would have liked this to be 3 pieces so I could remov...', 'Ordered additional item to make up for damaged item and still did not refund properly.', 'The dress is absolutely beautiful', 'Love it', '', '', 'Beautiful dress, but rather warm in it, so thought it would be too hot to wear to an August wedding', 'Great fit. I\\'m 5\\'5\", 165 lbs. Ordered size 14 and the outfit was perfect for the wedding of my niece. Would have liked this to be 3 pieces so I could remov...', 'Ordered additional item to make up for damaged item and still did not refund properly.', 'The dress is absolutely beautiful', 'Love it', '', '', 'Beautiful dress, but rather warm in it, so thought it would be too hot to wear to an August wedding', 'Great fit. I\\'m 5\\'5\", 165 lbs. Ordered size 14 and the outfit was perfect for the wedding of my niece. Would have liked this to be 3 pieces so I could remov...', 'Ordered additional item to make up for damaged item and still did not refund properly.', 'The dress is absolutely beautiful', 'Love it', '', '', 'Beautiful dress, but rather warm in it, so thought it would be too hot to wear to an August wedding', 'Great fit. I\\'m 5\\'5\", 165 lbs. Ordered size 14 and the outfit was perfect for the wedding of my niece. Would have liked this to be 3 pieces so I could remov...', 'Ordered additional item to make up for damaged item and still did not refund properly.', 'The dress is absolutely beautiful', 'Love it', '', '']\n"
     ]
    },
    {
     "name": "stdout",
     "output_type": "stream",
     "text": [
      "['4.5', '5', '5', '5', '3', '5', '0', '4.5', '5', '5', '5', '5', '5', '0', '4.5', '5', '5', '1', '5', '5', '0', '4.5', '5', '5', '1', '5', '5', '0', '4.5', '5', '5', '1', '5', '5', '0', '4.5', '5', '5', '1', '5', '5', '0', '4.5', '5', '5', '1', '5', '5', '0', '4.5', '5', '5', '1', '5', '5', '0', '4.5', '5', '5', '1', '5', '5', '0', '4.5', '5', '5', '1', '5', '5', '0']\n",
      "['By Torry J. on July 27, 2022.', 'By Lizzie on July 27, 2022.', 'By Sherrie Ashcraft on July 26, 2022.', 'By Fox 8 on July 23, 2022.', 'By Marisol Davila on July 22, 2022.', '', '', 'By Patsy on July 20, 2022.', 'By Patsy on July 20, 2022.', 'By Sylvia p. on July 17, 2022.', 'By Karen Mannino on July 15, 2022.', 'By Not Happy on July 14, 2022.', '', '', 'By loismt1 on July 14, 2022.', 'By Crystal on July 12, 2022.', 'By Gwen Scichowski on July 8, 2022.', 'By Mary Moorman on July 6, 2022.', 'By Anita M. Sailas on July 4, 2022.', '', '', 'By loismt1 on July 14, 2022.', 'By Crystal on July 12, 2022.', 'By Gwen Scichowski on July 8, 2022.', 'By Mary Moorman on July 6, 2022.', 'By Anita M. Sailas on July 4, 2022.', '', '', 'By loismt1 on July 14, 2022.', 'By Crystal on July 12, 2022.', 'By Gwen Scichowski on July 8, 2022.', 'By Mary Moorman on July 6, 2022.', 'By Anita M. Sailas on July 4, 2022.', '', '', 'By loismt1 on July 14, 2022.', 'By Crystal on July 12, 2022.', 'By Gwen Scichowski on July 8, 2022.', 'By Mary Moorman on July 6, 2022.', 'By Anita M. Sailas on July 4, 2022.', '', '', 'By loismt1 on July 14, 2022.', 'By Crystal on July 12, 2022.', 'By Gwen Scichowski on July 8, 2022.', 'By Mary Moorman on July 6, 2022.', 'By Anita M. Sailas on July 4, 2022.', '', '', 'By loismt1 on July 14, 2022.', 'By Crystal on July 12, 2022.', 'By Gwen Scichowski on July 8, 2022.', 'By Mary Moorman on July 6, 2022.', 'By Anita M. Sailas on July 4, 2022.', '', '', 'By loismt1 on July 14, 2022.', 'By Crystal on July 12, 2022.', 'By Gwen Scichowski on July 8, 2022.', 'By Mary Moorman on July 6, 2022.', 'By Anita M. Sailas on July 4, 2022.', '', '', 'By loismt1 on July 14, 2022.', 'By Crystal on July 12, 2022.', 'By Gwen Scichowski on July 8, 2022.', 'By Mary Moorman on July 6, 2022.', 'By Anita M. Sailas on July 4, 2022.', '', '']\n",
      "['iTEM WAS DELEVERED ON THE 27TH!', 'beautiful outfit; love it', 'Product was as described and is beautiful! Was a little wrinkled but I believe they will steam out. I was aggravated with UPS! They didn’t leave the package at...', 'The top is way too difficult to put on as the jacket and tank top are one piece. I\\'m 5\\'8\" and the pants are long enough for a giant.', 'Bought the first one size14P to small in my arms. I returned it and got 16P. Fits perfect. I got it 3days before the delivery day. I’m very pleased with the ser...', '', '', 'Dress was too big', 'Absolutely Beautiful.', 'Dress was beautiful, but to large thru shoulders, sent the dress back and waiting on refund to my card. Thank you!', 'This was my 1st experience buying from the Dress Outlet. It was fantastic! They had an amazing selection of styles and sizes and colors! When I needed to contac...', 'I hate shopping and getting dressed up. This outfit is so comfortable, and makes me look nice. I wasn’t looking forward to going to the wedding and now I am. Bu...', '', '', 'Beautiful dress, but rather warm in it, so thought it would be too hot to wear to an August wedding', 'Great fit. I\\'m 5\\'5\", 165 lbs. Ordered size 14 and the outfit was perfect for the wedding of my niece. Would have liked this to be 3 pieces so I could remov...', 'Ordered additional item to make up for damaged item and still did not refund properly.', 'The dress is absolutely beautiful', 'Love it', '', '', 'Beautiful dress, but rather warm in it, so thought it would be too hot to wear to an August wedding', 'Great fit. I\\'m 5\\'5\", 165 lbs. Ordered size 14 and the outfit was perfect for the wedding of my niece. Would have liked this to be 3 pieces so I could remov...', 'Ordered additional item to make up for damaged item and still did not refund properly.', 'The dress is absolutely beautiful', 'Love it', '', '', 'Beautiful dress, but rather warm in it, so thought it would be too hot to wear to an August wedding', 'Great fit. I\\'m 5\\'5\", 165 lbs. Ordered size 14 and the outfit was perfect for the wedding of my niece. Would have liked this to be 3 pieces so I could remov...', 'Ordered additional item to make up for damaged item and still did not refund properly.', 'The dress is absolutely beautiful', 'Love it', '', '', 'Beautiful dress, but rather warm in it, so thought it would be too hot to wear to an August wedding', 'Great fit. I\\'m 5\\'5\", 165 lbs. Ordered size 14 and the outfit was perfect for the wedding of my niece. Would have liked this to be 3 pieces so I could remov...', 'Ordered additional item to make up for damaged item and still did not refund properly.', 'The dress is absolutely beautiful', 'Love it', '', '', 'Beautiful dress, but rather warm in it, so thought it would be too hot to wear to an August wedding', 'Great fit. I\\'m 5\\'5\", 165 lbs. Ordered size 14 and the outfit was perfect for the wedding of my niece. Would have liked this to be 3 pieces so I could remov...', 'Ordered additional item to make up for damaged item and still did not refund properly.', 'The dress is absolutely beautiful', 'Love it', '', '', 'Beautiful dress, but rather warm in it, so thought it would be too hot to wear to an August wedding', 'Great fit. I\\'m 5\\'5\", 165 lbs. Ordered size 14 and the outfit was perfect for the wedding of my niece. Would have liked this to be 3 pieces so I could remov...', 'Ordered additional item to make up for damaged item and still did not refund properly.', 'The dress is absolutely beautiful', 'Love it', '', '', 'Beautiful dress, but rather warm in it, so thought it would be too hot to wear to an August wedding', 'Great fit. I\\'m 5\\'5\", 165 lbs. Ordered size 14 and the outfit was perfect for the wedding of my niece. Would have liked this to be 3 pieces so I could remov...', 'Ordered additional item to make up for damaged item and still did not refund properly.', 'The dress is absolutely beautiful', 'Love it', '', '', 'Beautiful dress, but rather warm in it, so thought it would be too hot to wear to an August wedding', 'Great fit. I\\'m 5\\'5\", 165 lbs. Ordered size 14 and the outfit was perfect for the wedding of my niece. Would have liked this to be 3 pieces so I could remov...', 'Ordered additional item to make up for damaged item and still did not refund properly.', 'The dress is absolutely beautiful', 'Love it', '', '']\n",
      "['4.5', '5', '5', '5', '3', '5', '0', '4.5', '5', '5', '5', '5', '5', '0', '4.5', '5', '5', '1', '5', '5', '0', '4.5', '5', '5', '1', '5', '5', '0', '4.5', '5', '5', '1', '5', '5', '0', '4.5', '5', '5', '1', '5', '5', '0', '4.5', '5', '5', '1', '5', '5', '0', '4.5', '5', '5', '1', '5', '5', '0', '4.5', '5', '5', '1', '5', '5', '0', '4.5', '5', '5', '1', '5', '5', '0', '4.5', '5', '5', '1', '5', '5', '0']\n",
      "['By Torry J. on July 27, 2022.', 'By Lizzie on July 27, 2022.', 'By Sherrie Ashcraft on July 26, 2022.', 'By Fox 8 on July 23, 2022.', 'By Marisol Davila on July 22, 2022.', '', '', 'By Patsy on July 20, 2022.', 'By Patsy on July 20, 2022.', 'By Sylvia p. on July 17, 2022.', 'By Karen Mannino on July 15, 2022.', 'By Not Happy on July 14, 2022.', '', '', 'By loismt1 on July 14, 2022.', 'By Crystal on July 12, 2022.', 'By Gwen Scichowski on July 8, 2022.', 'By Mary Moorman on July 6, 2022.', 'By Anita M. Sailas on July 4, 2022.', '', '', 'By loismt1 on July 14, 2022.', 'By Crystal on July 12, 2022.', 'By Gwen Scichowski on July 8, 2022.', 'By Mary Moorman on July 6, 2022.', 'By Anita M. Sailas on July 4, 2022.', '', '', 'By loismt1 on July 14, 2022.', 'By Crystal on July 12, 2022.', 'By Gwen Scichowski on July 8, 2022.', 'By Mary Moorman on July 6, 2022.', 'By Anita M. Sailas on July 4, 2022.', '', '', 'By loismt1 on July 14, 2022.', 'By Crystal on July 12, 2022.', 'By Gwen Scichowski on July 8, 2022.', 'By Mary Moorman on July 6, 2022.', 'By Anita M. Sailas on July 4, 2022.', '', '', 'By loismt1 on July 14, 2022.', 'By Crystal on July 12, 2022.', 'By Gwen Scichowski on July 8, 2022.', 'By Mary Moorman on July 6, 2022.', 'By Anita M. Sailas on July 4, 2022.', '', '', 'By loismt1 on July 14, 2022.', 'By Crystal on July 12, 2022.', 'By Gwen Scichowski on July 8, 2022.', 'By Mary Moorman on July 6, 2022.', 'By Anita M. Sailas on July 4, 2022.', '', '', 'By loismt1 on July 14, 2022.', 'By Crystal on July 12, 2022.', 'By Gwen Scichowski on July 8, 2022.', 'By Mary Moorman on July 6, 2022.', 'By Anita M. Sailas on July 4, 2022.', '', '', 'By loismt1 on July 14, 2022.', 'By Crystal on July 12, 2022.', 'By Gwen Scichowski on July 8, 2022.', 'By Mary Moorman on July 6, 2022.', 'By Anita M. Sailas on July 4, 2022.', '', '', 'By loismt1 on July 14, 2022.', 'By Crystal on July 12, 2022.', 'By Gwen Scichowski on July 8, 2022.', 'By Mary Moorman on July 6, 2022.', 'By Anita M. Sailas on July 4, 2022.', '', '']\n",
      "['iTEM WAS DELEVERED ON THE 27TH!', 'beautiful outfit; love it', 'Product was as described and is beautiful! Was a little wrinkled but I believe they will steam out. I was aggravated with UPS! They didn’t leave the package at...', 'The top is way too difficult to put on as the jacket and tank top are one piece. I\\'m 5\\'8\" and the pants are long enough for a giant.', 'Bought the first one size14P to small in my arms. I returned it and got 16P. Fits perfect. I got it 3days before the delivery day. I’m very pleased with the ser...', '', '', 'Dress was too big', 'Absolutely Beautiful.', 'Dress was beautiful, but to large thru shoulders, sent the dress back and waiting on refund to my card. Thank you!', 'This was my 1st experience buying from the Dress Outlet. It was fantastic! They had an amazing selection of styles and sizes and colors! When I needed to contac...', 'I hate shopping and getting dressed up. This outfit is so comfortable, and makes me look nice. I wasn’t looking forward to going to the wedding and now I am. Bu...', '', '', 'Beautiful dress, but rather warm in it, so thought it would be too hot to wear to an August wedding', 'Great fit. I\\'m 5\\'5\", 165 lbs. Ordered size 14 and the outfit was perfect for the wedding of my niece. Would have liked this to be 3 pieces so I could remov...', 'Ordered additional item to make up for damaged item and still did not refund properly.', 'The dress is absolutely beautiful', 'Love it', '', '', 'Beautiful dress, but rather warm in it, so thought it would be too hot to wear to an August wedding', 'Great fit. I\\'m 5\\'5\", 165 lbs. Ordered size 14 and the outfit was perfect for the wedding of my niece. Would have liked this to be 3 pieces so I could remov...', 'Ordered additional item to make up for damaged item and still did not refund properly.', 'The dress is absolutely beautiful', 'Love it', '', '', 'Beautiful dress, but rather warm in it, so thought it would be too hot to wear to an August wedding', 'Great fit. I\\'m 5\\'5\", 165 lbs. Ordered size 14 and the outfit was perfect for the wedding of my niece. Would have liked this to be 3 pieces so I could remov...', 'Ordered additional item to make up for damaged item and still did not refund properly.', 'The dress is absolutely beautiful', 'Love it', '', '', 'Beautiful dress, but rather warm in it, so thought it would be too hot to wear to an August wedding', 'Great fit. I\\'m 5\\'5\", 165 lbs. Ordered size 14 and the outfit was perfect for the wedding of my niece. Would have liked this to be 3 pieces so I could remov...', 'Ordered additional item to make up for damaged item and still did not refund properly.', 'The dress is absolutely beautiful', 'Love it', '', '', 'Beautiful dress, but rather warm in it, so thought it would be too hot to wear to an August wedding', 'Great fit. I\\'m 5\\'5\", 165 lbs. Ordered size 14 and the outfit was perfect for the wedding of my niece. Would have liked this to be 3 pieces so I could remov...', 'Ordered additional item to make up for damaged item and still did not refund properly.', 'The dress is absolutely beautiful', 'Love it', '', '', 'Beautiful dress, but rather warm in it, so thought it would be too hot to wear to an August wedding', 'Great fit. I\\'m 5\\'5\", 165 lbs. Ordered size 14 and the outfit was perfect for the wedding of my niece. Would have liked this to be 3 pieces so I could remov...', 'Ordered additional item to make up for damaged item and still did not refund properly.', 'The dress is absolutely beautiful', 'Love it', '', '', 'Beautiful dress, but rather warm in it, so thought it would be too hot to wear to an August wedding', 'Great fit. I\\'m 5\\'5\", 165 lbs. Ordered size 14 and the outfit was perfect for the wedding of my niece. Would have liked this to be 3 pieces so I could remov...', 'Ordered additional item to make up for damaged item and still did not refund properly.', 'The dress is absolutely beautiful', 'Love it', '', '', 'Beautiful dress, but rather warm in it, so thought it would be too hot to wear to an August wedding', 'Great fit. I\\'m 5\\'5\", 165 lbs. Ordered size 14 and the outfit was perfect for the wedding of my niece. Would have liked this to be 3 pieces so I could remov...', 'Ordered additional item to make up for damaged item and still did not refund properly.', 'The dress is absolutely beautiful', 'Love it', '', '', 'Beautiful dress, but rather warm in it, so thought it would be too hot to wear to an August wedding', 'Great fit. I\\'m 5\\'5\", 165 lbs. Ordered size 14 and the outfit was perfect for the wedding of my niece. Would have liked this to be 3 pieces so I could remov...', 'Ordered additional item to make up for damaged item and still did not refund properly.', 'The dress is absolutely beautiful', 'Love it', '', '']\n"
     ]
    }
   ],
   "source": [
    "for j in range(1,10):\n",
    "    driver.find_element(By.CLASS_NAME,\"next-action-item\").click()\n",
    "    rater = driver.find_elements(By.CLASS_NAME, \"feedback-rater\")\n",
    "    for r in rater:\n",
    "        data=r.text\n",
    "        raters.append(data)\n",
    "    des=driver.find_elements(By.CLASS_NAME, \"a-text-quote\")\n",
    "    for d in des:\n",
    "        dd=d.text\n",
    "        descript.append(dd)\n",
    "\n",
    "\n",
    "    rating = driver.find_elements(By.XPATH,\"//span[@class='a-icon-alt']\")\n",
    "\n",
    "    for i in rating:\n",
    "        rat=i.get_attribute(\"innerHTML\")\n",
    "        rr=rat.split(\" \")\n",
    "        start.append(rr[0])\n",
    "    print(start)\n",
    "    print(raters)\n",
    "    print(descript)\n",
    "    \n",
    "\n"
   ]
  },
  {
   "cell_type": "code",
   "execution_count": 6,
   "id": "1837b91d",
   "metadata": {},
   "outputs": [],
   "source": [
    "for limit in range(len(raters)):\n",
    "    rateby=raters[limit]\n",
    "    star=start[limit]\n",
    "    diss=descript[limit]\n",
    "\n",
    "    data=[rateby,diss,star]\n",
    "\n",
    "    with open('SAMEReviews.csv', 'a+',encoding=\"utf-8\") as f:\n",
    "        writer = csv.writer(f)\n",
    "        writer.writerow(data)"
   ]
  },
  {
   "cell_type": "code",
   "execution_count": 20,
   "id": "ea7cc872",
   "metadata": {},
   "outputs": [],
   "source": [
    "# driver.find_element(By.CLASS_NAME,\"next-action-item\").click()\n",
    "driver.find_element(By.XPATH,\"//li[@class='next-action-item']\").click()\n"
   ]
  },
  {
   "cell_type": "code",
   "execution_count": 7,
   "id": "fb90523d",
   "metadata": {},
   "outputs": [],
   "source": [
    "with open('SAMEReviews.csv', 'r+',encoding=\"utf-8\") as fd:\n",
    "    lines = fd.readlines()\n",
    "    fd.seek(0)\n",
    "    fd.writelines(line for line in lines if line.strip())\n",
    "    fd.truncate()"
   ]
  },
  {
   "cell_type": "code",
   "execution_count": null,
   "id": "a38f48db",
   "metadata": {},
   "outputs": [],
   "source": [
    "raters=[]\n",
    "rater = driver.find_elements(By.CLASS_NAME, \"feedback-rater\")\n",
    "for r in rater:\n",
    "    data=r.text\n",
    "    raters.append(data)\n",
    "print(rater)"
   ]
  },
  {
   "cell_type": "code",
   "execution_count": null,
   "id": "1d902d93",
   "metadata": {},
   "outputs": [],
   "source": [
    "rater = driver.find_elements(By.CLASS_NAME, \"feedback-rater\")\n",
    "\n",
    "for r in rater:\n",
    "    data=r.text\n",
    "    rater.append(data)\n",
    "rating = driver.find_elements(By.XPATH,\"//span[@class='a-icon-alt']\")\n",
    "for i in rating:\n",
    "    rat=i.get_attribute(\"innerHTML\")\n",
    "    rr=rat.split(\" \")\n",
    "    start.append(rr[0])"
   ]
  },
  {
   "cell_type": "code",
   "execution_count": null,
   "id": "a64e7645",
   "metadata": {},
   "outputs": [],
   "source": [
    "name=[]\n",
    "rviewTtile=[]\n",
    "description=[]\n",
    "lstrating=[]\n",
    "lstconsume=[]\n",
    "lstTtitle=[]\n",
    "lastdes=[]\n",
    "location=[]\n",
    "header=['Name','Title','Description','Rating','Location']\n",
    "with open('Newreviews.csv', 'a+', encoding='UTF8') as f:\n",
    "    writer = csv.writer(f)\n",
    "    writer.writerow(header)"
   ]
  },
  {
   "cell_type": "code",
   "execution_count": null,
   "id": "50dd5153",
   "metadata": {},
   "outputs": [],
   "source": [
    "name=driver.find_elements(By.CLASS_NAME, \"styles_consumerName__dP8Um \")\n",
    "    print(name)\n",
    "    rviewTtile = driver.find_elements(By.CLASS_NAME, \"styles_reviewTitle__04VGJ\")\n",
    "    locc=driver.find_elements(By.CLASS_NAME, \"styles_detailsIcon__Fo_ua\")\n",
    "\n",
    "    description = driver.find_elements(By.CLASS_NAME, \"styles_reviewContentwrapper__zH_9M\")\n",
    "    rating = driver.find_elements(By.CLASS_NAME,'styles_reviewHeader__iU9Px')\n",
    "    for j in rating:\n",
    "        r=j.get_attribute('data-service-review-rating')\n",
    "        lstrating.append(r)\n",
    "    for n in locc:\n",
    "        loct=n.text\n",
    "        location.append(loct)\n",
    "    for k in name:\n",
    "        consumer=k.text\n",
    "        lstconsume.append(consumer)\n",
    "\n",
    "    for l in rviewTtile:\n",
    "        consumer=l.text\n",
    "        lstTtitle.append(consumer)\n",
    "   \n",
    "    for m in description:\n",
    "        consumer=m.text\n",
    "        lastdes.append(consumer)\n",
    "    for i in range(len(lstconsume)):\n",
    "        name=lstconsume[i]\n",
    "        title=lstTtitle[i]\n",
    "        des=lastdes[i]\n",
    "        rate=lstrating[i]\n",
    "        loc=location[i]\n",
    "        data=[name,title,des,rate,loc]\n",
    "\n",
    "        with open('Newreviews.csv', 'a+',encoding=\"utf-8\") as f:\n",
    "            writer = csv.writer(f)\n",
    "            writer.writerow(data)\n",
    "\n",
    "# difficult = driver.find_element(By.ID,\"selAdv\").text\n",
    "# elevationinfo= driver.find_element(By.ID,\"selAlti\").text\n"
   ]
  }
 ],
 "metadata": {
  "kernelspec": {
   "display_name": "Python 3 (ipykernel)",
   "language": "python",
   "name": "python3"
  },
  "language_info": {
   "codemirror_mode": {
    "name": "ipython",
    "version": 3
   },
   "file_extension": ".py",
   "mimetype": "text/x-python",
   "name": "python",
   "nbconvert_exporter": "python",
   "pygments_lexer": "ipython3",
   "version": "3.10.5"
  }
 },
 "nbformat": 4,
 "nbformat_minor": 5
}
